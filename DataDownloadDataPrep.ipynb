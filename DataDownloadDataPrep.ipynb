{
 "cells": [
  {
   "cell_type": "code",
   "execution_count": 1,
   "id": "f091decb-524e-42a3-a9f7-0b855ddfb377",
   "metadata": {},
   "outputs": [],
   "source": [
    "import pandas as pd\n",
    "import matplotlib.pyplot as plt\n",
    "import seaborn as sns\n",
    "vogeldata = pd.read_csv('Data/Dataset1/birds.csv')"
   ]
  },
  {
   "cell_type": "code",
   "execution_count": 2,
   "id": "c5f3f279-c6f2-486e-92b0-5bc1a65544b4",
   "metadata": {},
   "outputs": [
    {
     "data": {
      "text/html": [
       "<div>\n",
       "<style scoped>\n",
       "    .dataframe tbody tr th:only-of-type {\n",
       "        vertical-align: middle;\n",
       "    }\n",
       "\n",
       "    .dataframe tbody tr th {\n",
       "        vertical-align: top;\n",
       "    }\n",
       "\n",
       "    .dataframe thead th {\n",
       "        text-align: right;\n",
       "    }\n",
       "</style>\n",
       "<table border=\"1\" class=\"dataframe\">\n",
       "  <thead>\n",
       "    <tr style=\"text-align: right;\">\n",
       "      <th></th>\n",
       "      <th>gen</th>\n",
       "      <th>sp</th>\n",
       "      <th>ssp</th>\n",
       "      <th>grp</th>\n",
       "      <th>en</th>\n",
       "      <th>rec</th>\n",
       "      <th>cnt</th>\n",
       "      <th>loc</th>\n",
       "      <th>lat</th>\n",
       "      <th>lon</th>\n",
       "      <th>...</th>\n",
       "      <th>method</th>\n",
       "      <th>url</th>\n",
       "      <th>file</th>\n",
       "      <th>file-name</th>\n",
       "      <th>length</th>\n",
       "      <th>date</th>\n",
       "      <th>uploaded</th>\n",
       "      <th>animal-seen</th>\n",
       "      <th>playback-used</th>\n",
       "      <th>q</th>\n",
       "    </tr>\n",
       "  </thead>\n",
       "  <tbody>\n",
       "    <tr>\n",
       "      <th>0</th>\n",
       "      <td>Gallinago</td>\n",
       "      <td>gallinago</td>\n",
       "      <td>NaN</td>\n",
       "      <td>birds</td>\n",
       "      <td>Common Snipe</td>\n",
       "      <td>Gosse Hoekstra</td>\n",
       "      <td>Netherlands</td>\n",
       "      <td>Tzummarum, Waadhoeke, Friesland</td>\n",
       "      <td>53.2602</td>\n",
       "      <td>5.5326</td>\n",
       "      <td>...</td>\n",
       "      <td>field recording</td>\n",
       "      <td>//xeno-canto.org/843222</td>\n",
       "      <td>https://xeno-canto.org/843222/download</td>\n",
       "      <td>XC843222-CS-221123-08H25M.mp3</td>\n",
       "      <td>0:24</td>\n",
       "      <td>2023-11-22</td>\n",
       "      <td>2023-11-22</td>\n",
       "      <td>yes</td>\n",
       "      <td>no</td>\n",
       "      <td>B</td>\n",
       "    </tr>\n",
       "    <tr>\n",
       "      <th>1</th>\n",
       "      <td>Gallinago</td>\n",
       "      <td>gallinago</td>\n",
       "      <td>NaN</td>\n",
       "      <td>birds</td>\n",
       "      <td>Common Snipe</td>\n",
       "      <td>Michel Veldt</td>\n",
       "      <td>Netherlands</td>\n",
       "      <td>Bodegraven, Bodegraven-Reeuwijk, Zuid-Holland</td>\n",
       "      <td>52.0747</td>\n",
       "      <td>4.7632</td>\n",
       "      <td>...</td>\n",
       "      <td>field recording</td>\n",
       "      <td>//xeno-canto.org/771007</td>\n",
       "      <td>https://xeno-canto.org/771007/download</td>\n",
       "      <td>XC771007-Watersnip-roep---Bodegraven---2022-10...</td>\n",
       "      <td>0:19</td>\n",
       "      <td>2022-10-17</td>\n",
       "      <td>2022-12-23</td>\n",
       "      <td>no</td>\n",
       "      <td>no</td>\n",
       "      <td>B</td>\n",
       "    </tr>\n",
       "    <tr>\n",
       "      <th>2</th>\n",
       "      <td>Gallinago</td>\n",
       "      <td>gallinago</td>\n",
       "      <td>NaN</td>\n",
       "      <td>birds</td>\n",
       "      <td>Common Snipe</td>\n",
       "      <td>Michel Veldt</td>\n",
       "      <td>Netherlands</td>\n",
       "      <td>Bodegraven, Bodegraven-Reeuwijk, Zuid-Holland</td>\n",
       "      <td>52.0747</td>\n",
       "      <td>4.7632</td>\n",
       "      <td>...</td>\n",
       "      <td>field recording</td>\n",
       "      <td>//xeno-canto.org/771006</td>\n",
       "      <td>https://xeno-canto.org/771006/download</td>\n",
       "      <td>XC771006-Watersnip-roep---Bodegraven---2022-09...</td>\n",
       "      <td>0:21</td>\n",
       "      <td>2022-09-22</td>\n",
       "      <td>2022-12-23</td>\n",
       "      <td>no</td>\n",
       "      <td>no</td>\n",
       "      <td>B</td>\n",
       "    </tr>\n",
       "    <tr>\n",
       "      <th>3</th>\n",
       "      <td>Gallinago</td>\n",
       "      <td>gallinago</td>\n",
       "      <td>NaN</td>\n",
       "      <td>birds</td>\n",
       "      <td>Common Snipe</td>\n",
       "      <td>Michel Veldt</td>\n",
       "      <td>Netherlands</td>\n",
       "      <td>Bodegraven, Bodegraven-Reeuwijk, Zuid-Holland</td>\n",
       "      <td>52.0747</td>\n",
       "      <td>4.7632</td>\n",
       "      <td>...</td>\n",
       "      <td>field recording</td>\n",
       "      <td>//xeno-canto.org/770906</td>\n",
       "      <td>https://xeno-canto.org/770906/download</td>\n",
       "      <td>XC770906-Watersnip-roep---Bodegraven--2020-10-...</td>\n",
       "      <td>0:10</td>\n",
       "      <td>2020-10-04</td>\n",
       "      <td>2022-12-22</td>\n",
       "      <td>no</td>\n",
       "      <td>no</td>\n",
       "      <td>B</td>\n",
       "    </tr>\n",
       "    <tr>\n",
       "      <th>4</th>\n",
       "      <td>Gallinago</td>\n",
       "      <td>gallinago</td>\n",
       "      <td>NaN</td>\n",
       "      <td>birds</td>\n",
       "      <td>Common Snipe</td>\n",
       "      <td>Peter van Vlaardingen</td>\n",
       "      <td>Netherlands</td>\n",
       "      <td>Wijk bij Duurstede, Utrecht</td>\n",
       "      <td>51.9839</td>\n",
       "      <td>5.3368</td>\n",
       "      <td>...</td>\n",
       "      <td>field recording</td>\n",
       "      <td>//xeno-canto.org/753978</td>\n",
       "      <td>https://xeno-canto.org/753978/download</td>\n",
       "      <td>XC753978-221003_2036_CommonSnipe_3h38_nfc.wav</td>\n",
       "      <td>0:23</td>\n",
       "      <td>2022-10-03</td>\n",
       "      <td>2022-10-05</td>\n",
       "      <td>no</td>\n",
       "      <td>no</td>\n",
       "      <td>B</td>\n",
       "    </tr>\n",
       "  </tbody>\n",
       "</table>\n",
       "<p>5 rows × 24 columns</p>\n",
       "</div>"
      ],
      "text/plain": [
       "         gen         sp  ssp    grp            en                    rec  \\\n",
       "0  Gallinago  gallinago  NaN  birds  Common Snipe         Gosse Hoekstra   \n",
       "1  Gallinago  gallinago  NaN  birds  Common Snipe           Michel Veldt   \n",
       "2  Gallinago  gallinago  NaN  birds  Common Snipe           Michel Veldt   \n",
       "3  Gallinago  gallinago  NaN  birds  Common Snipe           Michel Veldt   \n",
       "4  Gallinago  gallinago  NaN  birds  Common Snipe  Peter van Vlaardingen   \n",
       "\n",
       "           cnt                                            loc      lat  \\\n",
       "0  Netherlands                Tzummarum, Waadhoeke, Friesland  53.2602   \n",
       "1  Netherlands  Bodegraven, Bodegraven-Reeuwijk, Zuid-Holland  52.0747   \n",
       "2  Netherlands  Bodegraven, Bodegraven-Reeuwijk, Zuid-Holland  52.0747   \n",
       "3  Netherlands  Bodegraven, Bodegraven-Reeuwijk, Zuid-Holland  52.0747   \n",
       "4  Netherlands                    Wijk bij Duurstede, Utrecht  51.9839   \n",
       "\n",
       "      lon  ...           method                      url  \\\n",
       "0  5.5326  ...  field recording  //xeno-canto.org/843222   \n",
       "1  4.7632  ...  field recording  //xeno-canto.org/771007   \n",
       "2  4.7632  ...  field recording  //xeno-canto.org/771006   \n",
       "3  4.7632  ...  field recording  //xeno-canto.org/770906   \n",
       "4  5.3368  ...  field recording  //xeno-canto.org/753978   \n",
       "\n",
       "                                     file  \\\n",
       "0  https://xeno-canto.org/843222/download   \n",
       "1  https://xeno-canto.org/771007/download   \n",
       "2  https://xeno-canto.org/771006/download   \n",
       "3  https://xeno-canto.org/770906/download   \n",
       "4  https://xeno-canto.org/753978/download   \n",
       "\n",
       "                                           file-name length        date  \\\n",
       "0                      XC843222-CS-221123-08H25M.mp3   0:24  2023-11-22   \n",
       "1  XC771007-Watersnip-roep---Bodegraven---2022-10...   0:19  2022-10-17   \n",
       "2  XC771006-Watersnip-roep---Bodegraven---2022-09...   0:21  2022-09-22   \n",
       "3  XC770906-Watersnip-roep---Bodegraven--2020-10-...   0:10  2020-10-04   \n",
       "4      XC753978-221003_2036_CommonSnipe_3h38_nfc.wav   0:23  2022-10-03   \n",
       "\n",
       "     uploaded animal-seen playback-used  q  \n",
       "0  2023-11-22         yes            no  B  \n",
       "1  2022-12-23          no            no  B  \n",
       "2  2022-12-23          no            no  B  \n",
       "3  2022-12-22          no            no  B  \n",
       "4  2022-10-05          no            no  B  \n",
       "\n",
       "[5 rows x 24 columns]"
      ]
     },
     "execution_count": 2,
     "metadata": {},
     "output_type": "execute_result"
    }
   ],
   "source": [
    "vogeldata.head()"
   ]
  },
  {
   "cell_type": "markdown",
   "id": "525ea319-694f-4247-a542-f706e8e14a07",
   "metadata": {},
   "source": [
    "# Data Preperation"
   ]
  },
  {
   "cell_type": "code",
   "execution_count": 3,
   "id": "318dafd2-932c-4686-b997-3302b20d7808",
   "metadata": {},
   "outputs": [
    {
     "data": {
      "text/plain": [
       "url          500\n",
       "file         500\n",
       "file-name    500\n",
       "dtype: int64"
      ]
     },
     "execution_count": 3,
     "metadata": {},
     "output_type": "execute_result"
    }
   ],
   "source": [
    "vogelkopie = vogeldata[['url', 'file', 'file-name']].copy()\n",
    "\n",
    "vogelkopie.count()"
   ]
  },
  {
   "cell_type": "markdown",
   "id": "51041e9d-f74f-4dff-acd5-01e61de3d4af",
   "metadata": {},
   "source": [
    "# !Onderstaande niet runnen anders download je opnieuw alle files!"
   ]
  },
  {
   "cell_type": "code",
   "execution_count": null,
   "id": "e1f902f4-4962-49d2-82b8-a6fce0cf5335",
   "metadata": {},
   "outputs": [],
   "source": [
    "import requests\n",
    "import os\n",
    "\n",
    "# Create a directory to save the audio files\n",
    "output_dir = \"audio_files\"\n",
    "os.makedirs(output_dir, exist_ok=True)\n",
    "\n",
    "# Iterate over each row in the DataFrame\n",
    "for index, row in vogelkopie.iterrows():\n",
    "    audio_file = row['file']  # Get the audio file URL\n",
    "    file_name = row['file-name']  # Get the file name\n",
    "\n",
    "    # Define the full path to save the file\n",
    "    file_path = os.path.join(output_dir, file_name)\n",
    "\n",
    "    try:\n",
    "        # Download the audio file\n",
    "        response = requests.get(audio_file, stream=True)\n",
    "        response.raise_for_status()  # Raise an error for bad responses\n",
    "\n",
    "        # Save the file locally\n",
    "        with open(file_path, 'wb') as audio_file:\n",
    "            audio_file.write(response.content)\n",
    "\n",
    "        print(f\"Downloaded: {file_name}\")\n",
    "    except Exception as e:\n",
    "        print(f\"Failed to download {file_name}: {e}\")"
   ]
  },
  {
   "cell_type": "markdown",
   "id": "f389404a-4cfb-4618-93c9-f143d8d8a696",
   "metadata": {},
   "source": [
    "# !OOK DIT NIET RUNNEN ANDERS DOE JE ALLE FILES OPNIEUW OPSPLITSEN IN FRAGMENTEN VAN 2 SECONDEN!"
   ]
  },
  {
   "cell_type": "code",
   "execution_count": null,
   "id": "05ccb472-dfbc-4806-8d2c-a4cd2e8a0054",
   "metadata": {},
   "outputs": [],
   "source": [
    "import librosa\n",
    "import soundfile as sf\n",
    "import os\n",
    "\n",
    "# Directory containing the audio files\n",
    "input_dir = \"audio_files\"\n",
    "output_dir = \"audio_fragments\"\n",
    "\n",
    "# Iterate through all audio files in the input directory\n",
    "for file_name in os.listdir(input_dir):\n",
    "    if file_name.endswith(\".mp3\") or file_name.endswith(\".wav\") or file_name.endswith(\".MP3\"):  # Process only audio files\n",
    "        file_path = os.path.join(input_dir, file_name)\n",
    "\n",
    "        # Load the audio file\n",
    "        y, sr = librosa.load(file_path, sr=None)  # Load with the original sampling rate\n",
    "\n",
    "        # Split the audio into 2-second fragments\n",
    "        fragment_duration = 2 * sr  # 2 seconds in samples\n",
    "        for i in range(0, len(y), fragment_duration):\n",
    "            fragment = y[i:i + fragment_duration]  # Extract the fragment\n",
    "            fragment_name = f\"{os.path.splitext(file_name)[0]}_fragment_{i // fragment_duration}.wav\"\n",
    "            fragment_path = os.path.join(output_dir, fragment_name)\n",
    "\n",
    "            # Save the fragment as a .wav file\n",
    "            sf.write(fragment_path, fragment, sr)\n",
    "            print(f\"Created: {fragment_name}\")\n",
    "\n",
    "print(\"All audio files have been split into 2-second fragments.\")"
   ]
  },
  {
   "cell_type": "markdown",
   "id": "ec93edd4-f45c-42dc-b217-399970216c03",
   "metadata": {},
   "source": [
    "Alle gedownloade audiobestanden zijn opgesplitst in fragmenten van 2 seconden. Dit zijn allemaal .wav files."
   ]
  },
  {
   "cell_type": "markdown",
   "id": "10238fcd",
   "metadata": {},
   "source": [
    "### Aanmaken van CSV-file voor het clusteren van de data\n",
    "Voordat wij kunnen beginnen met clusteren moeten de audiofragement gelabeled worden. Dit moet helaas met de hand gebeuren. Een aantal stappen hiervan worden hieronder uitgelegd.\n",
    "\n",
    "Er is een dataframe aangemaakt genaamd **fragments_df** hierin zijn de fragmenten geplaatst en gelabeld met de Nederlandse namen van de vogels. Deze is uiteindelijk in een csv bestand gezet zodat we hier altijd bij kunnen. Deze heet 'fragments_data.csv'. Voor deze dataset moest er per fragment-titel gekeken worden naar wat er in de naam staat en hoe deze in de 'vogeldata' dataframe staat. En welke Nederlandse naam van de vogels er dus bij hoorde. Dit is te zien in onderstaande code."
   ]
  },
  {
   "cell_type": "code",
   "execution_count": null,
   "id": "2c21c2de-89aa-4e89-8037-6e992529c66c",
   "metadata": {},
   "outputs": [],
   "source": [
    "#fragments_df.loc[fragments_df['fragment'].str.contains('tureluur', case=False, na=False), 'labels'] = 'tureluur'"
   ]
  },
  {
   "cell_type": "markdown",
   "id": "2557b157",
   "metadata": {},
   "source": [
    "Een aantal van de fragmenten was niet duidelijk welke vogel erbij hoorden en deze zijn dus gedropt van het dataframe."
   ]
  },
  {
   "cell_type": "code",
   "execution_count": null,
   "id": "2c6445a1",
   "metadata": {},
   "outputs": [],
   "source": [
    "#fragments_df = fragments_df.dropna(subset=['labels'])"
   ]
  },
  {
   "cell_type": "markdown",
   "id": "2f1dd028",
   "metadata": {},
   "source": [
    "Uiteindelijk is er een .csv file gemaakt van dit fragment zodat we er in onze ontwikkelomgeving overal bijkunnen."
   ]
  },
  {
   "cell_type": "code",
   "execution_count": 10,
   "id": "74920fa2",
   "metadata": {},
   "outputs": [],
   "source": [
    "#fragments_df.to_csv('Data/fragments_data.csv', index=False)"
   ]
  },
  {
   "cell_type": "markdown",
   "id": "aea5204a",
   "metadata": {},
   "source": [
    "#### Het Fragments_data.csv file"
   ]
  },
  {
   "cell_type": "code",
   "execution_count": 13,
   "id": "1c35b989",
   "metadata": {},
   "outputs": [
    {
     "data": {
      "text/html": [
       "<div>\n",
       "<style scoped>\n",
       "    .dataframe tbody tr th:only-of-type {\n",
       "        vertical-align: middle;\n",
       "    }\n",
       "\n",
       "    .dataframe tbody tr th {\n",
       "        vertical-align: top;\n",
       "    }\n",
       "\n",
       "    .dataframe thead th {\n",
       "        text-align: right;\n",
       "    }\n",
       "</style>\n",
       "<table border=\"1\" class=\"dataframe\">\n",
       "  <thead>\n",
       "    <tr style=\"text-align: right;\">\n",
       "      <th></th>\n",
       "      <th>fragment</th>\n",
       "      <th>labels</th>\n",
       "      <th>label_numeric</th>\n",
       "    </tr>\n",
       "  </thead>\n",
       "  <tbody>\n",
       "    <tr>\n",
       "      <th>0</th>\n",
       "      <td>05190.100417.watersniproepEempolder_fragment_0...</td>\n",
       "      <td>watersnip</td>\n",
       "      <td>0</td>\n",
       "    </tr>\n",
       "    <tr>\n",
       "      <th>1</th>\n",
       "      <td>05190.100417.watersniproepEempolder_fragment_1...</td>\n",
       "      <td>watersnip</td>\n",
       "      <td>0</td>\n",
       "    </tr>\n",
       "    <tr>\n",
       "      <th>2</th>\n",
       "      <td>05190.100417.watersniproepEempolder_fragment_2...</td>\n",
       "      <td>watersnip</td>\n",
       "      <td>0</td>\n",
       "    </tr>\n",
       "    <tr>\n",
       "      <th>3</th>\n",
       "      <td>05190.100417.watersniproepEempolder_fragment_3...</td>\n",
       "      <td>watersnip</td>\n",
       "      <td>0</td>\n",
       "    </tr>\n",
       "    <tr>\n",
       "      <th>4</th>\n",
       "      <td>05190.100417.watersniproepEempolder_fragment_4...</td>\n",
       "      <td>watersnip</td>\n",
       "      <td>0</td>\n",
       "    </tr>\n",
       "  </tbody>\n",
       "</table>\n",
       "</div>"
      ],
      "text/plain": [
       "                                            fragment     labels  label_numeric\n",
       "0  05190.100417.watersniproepEempolder_fragment_0...  watersnip              0\n",
       "1  05190.100417.watersniproepEempolder_fragment_1...  watersnip              0\n",
       "2  05190.100417.watersniproepEempolder_fragment_2...  watersnip              0\n",
       "3  05190.100417.watersniproepEempolder_fragment_3...  watersnip              0\n",
       "4  05190.100417.watersniproepEempolder_fragment_4...  watersnip              0"
      ]
     },
     "execution_count": 13,
     "metadata": {},
     "output_type": "execute_result"
    }
   ],
   "source": [
    "fragmenten_df = pd.read_csv('Data/fragments_data.csv')\n",
    "fragmenten_df.head()"
   ]
  },
  {
   "cell_type": "code",
   "execution_count": 15,
   "id": "d9953108",
   "metadata": {},
   "outputs": [
    {
     "name": "stdout",
     "output_type": "stream",
     "text": [
      "labels\n",
      "tureluur                  1238\n",
      "oeverloper                 861\n",
      "witgat                     674\n",
      "watersnip                  579\n",
      "zwarte ruiter              476\n",
      "grauwe franjepoot           24\n",
      "geelpootruiter              23\n",
      "steenloper                  17\n",
      "steltloper                   8\n",
      "amerikaanse oeverloper       2\n",
      "Name: count, dtype: int64\n"
     ]
    }
   ],
   "source": [
    "en_counts = fragmenten_df['labels'].value_counts()\n",
    "\n",
    "print(en_counts)"
   ]
  },
  {
   "cell_type": "code",
   "execution_count": null,
   "id": "ed3768f2",
   "metadata": {},
   "outputs": [],
   "source": []
  }
 ],
 "metadata": {
  "kernelspec": {
   "display_name": "Python 3 (ipykernel)",
   "language": "python",
   "name": "python3"
  },
  "language_info": {
   "codemirror_mode": {
    "name": "ipython",
    "version": 3
   },
   "file_extension": ".py",
   "mimetype": "text/x-python",
   "name": "python",
   "nbconvert_exporter": "python",
   "pygments_lexer": "ipython3",
   "version": "3.12.7"
  }
 },
 "nbformat": 4,
 "nbformat_minor": 5
}
