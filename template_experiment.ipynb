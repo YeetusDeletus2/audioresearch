{
 "cells": [
  {
   "cell_type": "markdown",
   "metadata": {},
   "source": [
    "# Notebook Appbakkers Project ICTDSd1\n",
    "**Beschrijving:** Het doel van dit project is het onderzoeken naar de mogelijkheid van clustering van geluidsfragmenten.\n",
    "\n",
    "**Datum:** 09-05-2025\n",
    "\n",
    "**Auteur:** ICTDSd1\n",
    "\n",
    "**Versie:** v1.0\n",
    "\n",
    "**Status:** In Progress\n",
    "\n",
    "## Doel en Verwachtingen\n",
    "**Doelstelling:** We willen bereiken dat wat wij opleveren van nut zal zijn voor de opdrachtgever.\n",
    "\n",
    "**Verwachting:** De verwachting is dat wij met behulp van clustering een duidelijk beeld geven over wat er precies gedaan kan worden met de clustering."
   ]
  },
  {
   "cell_type": "markdown",
   "metadata": {},
   "source": [
    "## Business Understanding\n",
    "**Doel:** Het herkennen van vogelgeluiden en deze clusteren zodat deze bij elkaar vallen.\n",
    "\n",
    "**Succescriterium:** Nauwkeurigheid van 95% bij het clusteren."
   ]
  },
  {
   "cell_type": "markdown",
   "metadata": {},
   "source": [
    "## Data Understanding\n",
    "**Datasets:**\n",
    "- `customer_data.csv`: 10.000 rijen, 12 kolommen, bevat klantgegevens en interacties.\n",
    "- `purchase_history.csv`: 5.000 rijen, 6 kolommen, bevat aankoopgeschiedenis.\n",
    "\n",
    "**Verkenning:**\n",
    "- 80% van de klanten heeft minimaal één aankoop gedaan."
   ]
  },
  {
   "cell_type": "code",
   "execution_count": null,
   "metadata": {},
   "outputs": [],
   "source": []
  },
  {
   "cell_type": "markdown",
   "metadata": {},
   "source": [
    "## Data Preparation\n",
    "- Missing values ingevuld met mediane waarde.\n",
    "- Categorieën omgezet naar numerieke waarden met One-Hot Encoding."
   ]
  },
  {
   "cell_type": "code",
   "execution_count": null,
   "metadata": {},
   "outputs": [],
   "source": [
    "import pandas as pd\n",
    "\n",
    "data = pd.read_csv('Data/Dataset1/birds.csv')\n",
    "print(data.info())"
   ]
  },
  {
   "cell_type": "markdown",
   "metadata": {},
   "source": [
    "## Modeling\n",
    "**Gebruikte Modellen:**\n",
    "- Random Forest (n_estimators=100, max_depth=5)\n",
    "- Support Vector Machine (kernel='rbf', C=1)\n",
    "\n",
    "**Evaluatie:**\n",
    "- Random Forest: Nauwkeurigheid = 82%, F1 = 0.74\n",
    "- SVM: Nauwkeurigheid = 78%, F1 = 0.70"
   ]
  },
  {
   "cell_type": "code",
   "execution_count": null,
   "metadata": {},
   "outputs": [],
   "source": []
  },
  {
   "cell_type": "markdown",
   "metadata": {},
   "source": [
    "## Evaluation\n",
    "**Resultaten:**\n",
    "- Random Forest model presteerde het beste met een nauwkeurigheid van 82% en een F1-score van 0.74.\n",
    "- Het model voldoet niet aan de minimale eisen van 85% nauwkeurigheid."
   ]
  },
  {
   "cell_type": "markdown",
   "metadata": {},
   "source": []
  },
  {
   "cell_type": "markdown",
   "metadata": {},
   "source": [
    "## Deployment\n",
    "**Conclusie:**\n",
    "- Het huidige model voldoet niet aan de eisen. Meer feature engineering is nodig.\n",
    "\n",
    "**Volgende Stappen:**\n",
    "- Meer geavanceerde features toevoegen uit interactiedata.\n",
    "- Hyperparameter tuning uitvoeren."
   ]
  },
  {
   "cell_type": "markdown",
   "metadata": {},
   "source": []
  }
 ],
 "metadata": {
  "kernelspec": {
   "display_name": "Python 3",
   "language": "python",
   "name": "python3"
  },
  "language_info": {
   "name": "python",
   "version": "3.12.4"
  }
 },
 "nbformat": 4,
 "nbformat_minor": 2
}
