{
 "cells": [
  {
   "cell_type": "markdown",
   "metadata": {},
   "source": [
    "# Experiment: Audio Clustering\n",
    "**Beschrijving:** [Korte beschrijving van het doel van het experiment]\n",
    "\n",
    "**Datum:** 14-5-2025\n",
    "\n",
    "**Auteurs:** Cihan Uz, Iris Pothof, Gijs Minnen, Maddo Meijer\n",
    "\n",
    "**Versie:** v1.0\n",
    "\n",
    "**Status:** In Progress\n",
    "\n",
    "## Doel en Verwachtingen\n",
    "**Groeperen van geluiden** <br>\n",
    "Doel: **Uitzoeken of geluiden herkent kunnen worden aan de hand van andere geluiden** <br>\n",
    "We willen weten:\n",
    "- Of het mogelijk is vogels te clusteren op alleen hun geluid.\n",
    "- Of het mogelijk is om het geluid van een vogel herkennen.\n",
    "\n",
    "**Inzicht in datakwaliteit** <br>\n",
    "Doel: **automatisch foutieve of onbruikbare data herkennen**,\n",
    "zonder dat we alle geluidsopnames handmatig moeten terugluisteren.\n",
    "\n",
    "**Verwachting:** Wij verwachten dat dit mogelijk is.\n",
    "\n",
    "## Data en Bronnen\n",
    "**Datasets:**\n",
    "- [Naam dataset] (versie [datum])\n",
    "\n",
    "**Externe Bronnen:**\n",
    "- [Scripts, API’s, etc.]\n",
    "\n",
    "## Software Configuratie\n",
    "**Software:**\n",
    "- [Python versie,  bijzondere packages, etc.]"
   ]
  },
  {
   "cell_type": "markdown",
   "metadata": {},
   "source": [
    "## Business Understanding\n",
    "**Doel:** Voorspellen van churn onder klanten op basis van interactiegegevens.\n",
    "\n",
    "**Succescriterium:** Minimaal 85% nauwkeurigheid en 0.75 F1-score."
   ]
  },
  {
   "cell_type": "markdown",
   "metadata": {},
   "source": [
    "## Data Understanding\n",
    "**Datasets:**\n",
    "- `customer_data.csv`: 10.000 rijen, 12 kolommen, bevat klantgegevens en interacties.\n",
    "- `purchase_history.csv`: 5.000 rijen, 6 kolommen, bevat aankoopgeschiedenis.\n",
    "\n",
    "**Verkenning:**\n",
    "- 80% van de klanten heeft minimaal één aankoop gedaan."
   ]
  },
  {
   "cell_type": "code",
   "execution_count": null,
   "metadata": {},
   "outputs": [],
   "source": []
  },
  {
   "cell_type": "markdown",
   "metadata": {},
   "source": [
    "## Data Preparation\n",
    "- Missing values ingevuld met mediane waarde.\n",
    "- Categorieën omgezet naar numerieke waarden met One-Hot Encoding."
   ]
  },
  {
   "cell_type": "code",
   "execution_count": null,
   "metadata": {},
   "outputs": [],
   "source": [
    "import pandas as pd\n",
    "\n",
    "data = pd.read_csv('Data/Dataset1/birds.csv')\n",
    "print(data.info())"
   ]
  },
  {
   "cell_type": "markdown",
   "metadata": {},
   "source": [
    "## Modeling\n",
    "**Gebruikte Modellen:**\n",
    "- Random Forest (n_estimators=100, max_depth=5)\n",
    "- Support Vector Machine (kernel='rbf', C=1)\n",
    "\n",
    "**Evaluatie:**\n",
    "- Random Forest: Nauwkeurigheid = 82%, F1 = 0.74\n",
    "- SVM: Nauwkeurigheid = 78%, F1 = 0.70"
   ]
  },
  {
   "cell_type": "code",
   "execution_count": null,
   "metadata": {},
   "outputs": [],
   "source": []
  },
  {
   "cell_type": "markdown",
   "metadata": {},
   "source": [
    "## Evaluation\n",
    "**Resultaten:**\n",
    "- Random Forest model presteerde het beste met een nauwkeurigheid van 82% en een F1-score van 0.74.\n",
    "- Het model voldoet niet aan de minimale eisen van 85% nauwkeurigheid."
   ]
  },
  {
   "cell_type": "markdown",
   "metadata": {},
   "source": []
  },
  {
   "cell_type": "markdown",
   "metadata": {},
   "source": [
    "## Deployment\n",
    "**Conclusie:**\n",
    "- Het huidige model voldoet niet aan de eisen. Meer feature engineering is nodig.\n",
    "\n",
    "**Volgende Stappen:**\n",
    "- Meer geavanceerde features toevoegen uit interactiedata.\n",
    "- Hyperparameter tuning uitvoeren."
   ]
  },
  {
   "cell_type": "markdown",
   "metadata": {},
   "source": []
  }
 ],
 "metadata": {
  "kernelspec": {
   "display_name": "Python 3",
   "language": "python",
   "name": "python3"
  },
  "language_info": {
   "name": "python",
   "version": "3.12.4"
  }
 },
 "nbformat": 4,
 "nbformat_minor": 2
}
