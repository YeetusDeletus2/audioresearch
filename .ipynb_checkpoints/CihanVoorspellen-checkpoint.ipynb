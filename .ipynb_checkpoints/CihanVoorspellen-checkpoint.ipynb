{
 "cells": [
  {
   "cell_type": "markdown",
   "id": "ff2c9767-639c-4752-8a4c-6b285005e45c",
   "metadata": {},
   "source": [
    "# Lekker bezig CIHANNNNN"
   ]
  },
  {
   "cell_type": "code",
   "execution_count": null,
   "id": "0a0c0ab5-697b-4660-91d1-85691023ff97",
   "metadata": {},
   "outputs": [],
   "source": []
  }
 ],
 "metadata": {
  "kernelspec": {
   "display_name": "Python 3 (ipykernel)",
   "language": "python",
   "name": "python3"
  },
  "language_info": {
   "codemirror_mode": {
    "name": "ipython",
    "version": 3
   },
   "file_extension": ".py",
   "mimetype": "text/x-python",
   "name": "python",
   "nbconvert_exporter": "python",
   "pygments_lexer": "ipython3",
   "version": "3.12.7"
  }
 },
 "nbformat": 4,
 "nbformat_minor": 5
}
