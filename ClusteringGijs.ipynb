{
 "cells": [
  {
   "cell_type": "markdown",
   "id": "a70e4c46",
   "metadata": {},
   "source": [
    "# Clustering Gijs"
   ]
  },
  {
   "cell_type": "code",
   "execution_count": 2,
   "id": "16f9673d",
   "metadata": {},
   "outputs": [
    {
     "data": {
      "text/html": [
       "<div>\n",
       "<style scoped>\n",
       "    .dataframe tbody tr th:only-of-type {\n",
       "        vertical-align: middle;\n",
       "    }\n",
       "\n",
       "    .dataframe tbody tr th {\n",
       "        vertical-align: top;\n",
       "    }\n",
       "\n",
       "    .dataframe thead th {\n",
       "        text-align: right;\n",
       "    }\n",
       "</style>\n",
       "<table border=\"1\" class=\"dataframe\">\n",
       "  <thead>\n",
       "    <tr style=\"text-align: right;\">\n",
       "      <th></th>\n",
       "      <th>fragment</th>\n",
       "      <th>labels</th>\n",
       "      <th>label_numeric</th>\n",
       "    </tr>\n",
       "  </thead>\n",
       "  <tbody>\n",
       "    <tr>\n",
       "      <th>0</th>\n",
       "      <td>05190.100417.watersniproepEempolder_fragment_0...</td>\n",
       "      <td>watersnip</td>\n",
       "      <td>0</td>\n",
       "    </tr>\n",
       "    <tr>\n",
       "      <th>1</th>\n",
       "      <td>05190.100417.watersniproepEempolder_fragment_1...</td>\n",
       "      <td>watersnip</td>\n",
       "      <td>0</td>\n",
       "    </tr>\n",
       "    <tr>\n",
       "      <th>2</th>\n",
       "      <td>05190.100417.watersniproepEempolder_fragment_2...</td>\n",
       "      <td>watersnip</td>\n",
       "      <td>0</td>\n",
       "    </tr>\n",
       "    <tr>\n",
       "      <th>3</th>\n",
       "      <td>05190.100417.watersniproepEempolder_fragment_3...</td>\n",
       "      <td>watersnip</td>\n",
       "      <td>0</td>\n",
       "    </tr>\n",
       "    <tr>\n",
       "      <th>4</th>\n",
       "      <td>05190.100417.watersniproepEempolder_fragment_4...</td>\n",
       "      <td>watersnip</td>\n",
       "      <td>0</td>\n",
       "    </tr>\n",
       "  </tbody>\n",
       "</table>\n",
       "</div>"
      ],
      "text/plain": [
       "                                            fragment     labels  label_numeric\n",
       "0  05190.100417.watersniproepEempolder_fragment_0...  watersnip              0\n",
       "1  05190.100417.watersniproepEempolder_fragment_1...  watersnip              0\n",
       "2  05190.100417.watersniproepEempolder_fragment_2...  watersnip              0\n",
       "3  05190.100417.watersniproepEempolder_fragment_3...  watersnip              0\n",
       "4  05190.100417.watersniproepEempolder_fragment_4...  watersnip              0"
      ]
     },
     "execution_count": 2,
     "metadata": {},
     "output_type": "execute_result"
    }
   ],
   "source": [
    "import pandas as pd\n",
    "import numpy as np     \n",
    "import matplotlib.pyplot as plt\n",
    "import seaborn as sns\n",
    "\n",
    "fragmenten_df = pd.read_csv('Data/fragments_data.csv')\n",
    "birchFragmenten_df = fragmenten_df.copy()\n",
    "birchFragmenten_df.head()"
   ]
  },
  {
   "cell_type": "code",
   "execution_count": null,
   "id": "fa686363",
   "metadata": {},
   "outputs": [],
   "source": [
    "import librosa\n",
    "import librosa.display\n",
    "import matplotlib.pyplot as plt\n",
    "from IPython.display import Audio\n",
    "import pandas as pd\n",
    "\n",
    "\n",
    "for fragment in birchFragmenten_df['fragment']:\n",
    "    y, sr = librosa.load(\"audio_fragments/\" + fragment, sr=None)\n",
    "    \n"
   ]
  },
  {
   "cell_type": "code",
   "execution_count": 11,
   "id": "e0506f30",
   "metadata": {},
   "outputs": [],
   "source": [
    "for fragment in birchFragmenten_df['fragment']:\n",
    "    y, sr = librosa.load(\"audio_fragments/\" + fragment, sr=None)\n",
    "    mfcc = librosa.feature.mfcc(y=y, sr=sr, n_mfcc=13)\n",
    "    mfcc_mean = np.mean(mfcc.T, axis=0)"
   ]
  },
  {
   "cell_type": "code",
   "execution_count": null,
   "id": "e1def6a8",
   "metadata": {},
   "outputs": [],
   "source": []
  }
 ],
 "metadata": {
  "kernelspec": {
   "display_name": "base",
   "language": "python",
   "name": "python3"
  },
  "language_info": {
   "codemirror_mode": {
    "name": "ipython",
    "version": 3
   },
   "file_extension": ".py",
   "mimetype": "text/x-python",
   "name": "python",
   "nbconvert_exporter": "python",
   "pygments_lexer": "ipython3",
   "version": "3.12.7"
  }
 },
 "nbformat": 4,
 "nbformat_minor": 5
}
