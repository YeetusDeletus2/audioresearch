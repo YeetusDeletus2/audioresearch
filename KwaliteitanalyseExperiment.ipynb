{
 "cells": [
  {
   "cell_type": "markdown",
   "metadata": {},
   "source": [
    "# Experiment: Kwaliteitanalyse\n",
    "**Beschrijving:** Het doel is om een dataframe op te zetten die laat zien wat de kwaliteit is van de data.\n",
    "\n",
    "**Auteur:** ICTDSd1\n",
    "\n",
    "\n",
    "## Doel en Verwachtingen\n",
    "**Doelstelling:** We willen laten zien wat de kwaliteit van onze dataset is en dit in een dataframe neerzetten.\n",
    "\n",
    "**Verwachting:** We verwachten dat de kwaliteit van de data uit de dataset zeer verschillend zal zijn.\n",
    "\n",
    "## Data en Bronnen\n",
    "**Datasets:**\n",
    "- We gebruiken de fragments_data.csv die we gebruikt hebben voor de clustering van de geluidsfragmenten.\n"
   ]
  },
  {
   "cell_type": "markdown",
   "metadata": {},
   "source": [
    "## Business Understanding\n",
    "N.v.t."
   ]
  },
  {
   "cell_type": "markdown",
   "metadata": {},
   "source": [
    "## Data Understanding\n",
    "De data set die we gebruiken hebben we zelf opgesplitst in fragmenten van 2 seconden. Deze dataset bevat 10 verschillende soorten vogelgeluiden. We zullen de data opsplitsen in train en test data. en om de experimenten snel uit te voeren maken we gebruik van de test data."
   ]
  },
  {
   "cell_type": "code",
   "execution_count": 11,
   "metadata": {},
   "outputs": [
    {
     "data": {
      "text/html": [
       "<div>\n",
       "<style scoped>\n",
       "    .dataframe tbody tr th:only-of-type {\n",
       "        vertical-align: middle;\n",
       "    }\n",
       "\n",
       "    .dataframe tbody tr th {\n",
       "        vertical-align: top;\n",
       "    }\n",
       "\n",
       "    .dataframe thead th {\n",
       "        text-align: right;\n",
       "    }\n",
       "</style>\n",
       "<table border=\"1\" class=\"dataframe\">\n",
       "  <thead>\n",
       "    <tr style=\"text-align: right;\">\n",
       "      <th></th>\n",
       "      <th>fragment</th>\n",
       "      <th>labels</th>\n",
       "      <th>label_numeric</th>\n",
       "    </tr>\n",
       "  </thead>\n",
       "  <tbody>\n",
       "    <tr>\n",
       "      <th>0</th>\n",
       "      <td>05190.100417.watersniproepEempolder_fragment_0...</td>\n",
       "      <td>watersnip</td>\n",
       "      <td>0</td>\n",
       "    </tr>\n",
       "    <tr>\n",
       "      <th>1</th>\n",
       "      <td>05190.100417.watersniproepEempolder_fragment_1...</td>\n",
       "      <td>watersnip</td>\n",
       "      <td>0</td>\n",
       "    </tr>\n",
       "    <tr>\n",
       "      <th>2</th>\n",
       "      <td>05190.100417.watersniproepEempolder_fragment_2...</td>\n",
       "      <td>watersnip</td>\n",
       "      <td>0</td>\n",
       "    </tr>\n",
       "    <tr>\n",
       "      <th>3</th>\n",
       "      <td>05190.100417.watersniproepEempolder_fragment_3...</td>\n",
       "      <td>watersnip</td>\n",
       "      <td>0</td>\n",
       "    </tr>\n",
       "    <tr>\n",
       "      <th>4</th>\n",
       "      <td>05190.100417.watersniproepEempolder_fragment_4...</td>\n",
       "      <td>watersnip</td>\n",
       "      <td>0</td>\n",
       "    </tr>\n",
       "  </tbody>\n",
       "</table>\n",
       "</div>"
      ],
      "text/plain": [
       "                                            fragment     labels  label_numeric\n",
       "0  05190.100417.watersniproepEempolder_fragment_0...  watersnip              0\n",
       "1  05190.100417.watersniproepEempolder_fragment_1...  watersnip              0\n",
       "2  05190.100417.watersniproepEempolder_fragment_2...  watersnip              0\n",
       "3  05190.100417.watersniproepEempolder_fragment_3...  watersnip              0\n",
       "4  05190.100417.watersniproepEempolder_fragment_4...  watersnip              0"
      ]
     },
     "execution_count": 11,
     "metadata": {},
     "output_type": "execute_result"
    }
   ],
   "source": [
    "import pandas as pd\n",
    "import numpy as np  \n",
    "fragmenten_df = pd.read_csv('Data/fragments_data.csv')\n",
    "kwaliteit_df = fragmenten_df.copy()\n",
    "kwaliteit_df.head()"
   ]
  },
  {
   "cell_type": "code",
   "execution_count": 12,
   "metadata": {},
   "outputs": [
    {
     "data": {
      "text/html": [
       "<div>\n",
       "<style scoped>\n",
       "    .dataframe tbody tr th:only-of-type {\n",
       "        vertical-align: middle;\n",
       "    }\n",
       "\n",
       "    .dataframe tbody tr th {\n",
       "        vertical-align: top;\n",
       "    }\n",
       "\n",
       "    .dataframe thead th {\n",
       "        text-align: right;\n",
       "    }\n",
       "</style>\n",
       "<table border=\"1\" class=\"dataframe\">\n",
       "  <thead>\n",
       "    <tr style=\"text-align: right;\">\n",
       "      <th></th>\n",
       "      <th>fragment</th>\n",
       "      <th>labels</th>\n",
       "      <th>label_numeric</th>\n",
       "    </tr>\n",
       "  </thead>\n",
       "  <tbody>\n",
       "    <tr>\n",
       "      <th>948</th>\n",
       "      <td>XC466471-Redshank (2)_fragment_0.wav</td>\n",
       "      <td>tureluur</td>\n",
       "      <td>1</td>\n",
       "    </tr>\n",
       "    <tr>\n",
       "      <th>3036</th>\n",
       "      <td>XC749107-2022-09-14 2020 Oeverlopers_fragment_...</td>\n",
       "      <td>oeverloper</td>\n",
       "      <td>4</td>\n",
       "    </tr>\n",
       "    <tr>\n",
       "      <th>1960</th>\n",
       "      <td>XC590410-200918_0480_2257_Watersnip_fragment_1...</td>\n",
       "      <td>watersnip</td>\n",
       "      <td>0</td>\n",
       "    </tr>\n",
       "    <tr>\n",
       "      <th>3543</th>\n",
       "      <td>XC834752-01.-1950-2050-watersnip_fragment_5.wav</td>\n",
       "      <td>watersnip</td>\n",
       "      <td>0</td>\n",
       "    </tr>\n",
       "    <tr>\n",
       "      <th>1689</th>\n",
       "      <td>XC561755-Oeverloper, flight call, IGS, 050520,...</td>\n",
       "      <td>oeverloper</td>\n",
       "      <td>4</td>\n",
       "    </tr>\n",
       "  </tbody>\n",
       "</table>\n",
       "</div>"
      ],
      "text/plain": [
       "                                               fragment      labels  \\\n",
       "948                XC466471-Redshank (2)_fragment_0.wav    tureluur   \n",
       "3036  XC749107-2022-09-14 2020 Oeverlopers_fragment_...  oeverloper   \n",
       "1960  XC590410-200918_0480_2257_Watersnip_fragment_1...   watersnip   \n",
       "3543    XC834752-01.-1950-2050-watersnip_fragment_5.wav   watersnip   \n",
       "1689  XC561755-Oeverloper, flight call, IGS, 050520,...  oeverloper   \n",
       "\n",
       "      label_numeric  \n",
       "948               1  \n",
       "3036              4  \n",
       "1960              0  \n",
       "3543              0  \n",
       "1689              4  "
      ]
     },
     "execution_count": 12,
     "metadata": {},
     "output_type": "execute_result"
    }
   ],
   "source": [
    "from sklearn.model_selection import train_test_split\n",
    "train_data1, test_data1 = train_test_split(kwaliteit_df, test_size=0.3, random_state=42)\n",
    "test_data1.head()"
   ]
  },
  {
   "cell_type": "code",
   "execution_count": 13,
   "metadata": {},
   "outputs": [
    {
     "data": {
      "text/plain": [
       "labels\n",
       "tureluur                  362\n",
       "oeverloper                256\n",
       "witgat                    202\n",
       "watersnip                 170\n",
       "zwarte ruiter             149\n",
       "geelpootruiter             11\n",
       "grauwe franjepoot          10\n",
       "steenloper                  7\n",
       "steltloper                  3\n",
       "amerikaanse oeverloper      1\n",
       "Name: count, dtype: int64"
      ]
     },
     "execution_count": 13,
     "metadata": {},
     "output_type": "execute_result"
    }
   ],
   "source": [
    "test_data1['labels'].value_counts()"
   ]
  },
  {
   "cell_type": "markdown",
   "metadata": {},
   "source": [
    "## Data Preparation\n"
   ]
  },
  {
   "cell_type": "markdown",
   "metadata": {},
   "source": [
    "### SNR\n",
    "De SNR (Signaal-Ruisverhouding) is de verhouding tussen het gewenste signaal en de achtergrondruis in een audiobestand. Het wordt gemeten in decibels (dB). Een SNR-waarde hoger dan 0 dB geeft aan dat er meer signaal is dan ruis, wat duidt op een goede geluidskwaliteit. Dit betekent dat het gewenste geluid duidelijk is ten opzichte van de storende ruis.\n",
    "\n",
    "Om de SNR-waarde in een begrijpelijker context te plaatsen, hier zijn enkele algemene richtlijnen:\n",
    "\n",
    "- 5 dB tot 10 dB: Dit wordt beschouwd als \"Minimum\" signaalniveau. Het ruisniveau is bijna niet te onderscheiden van het gewenste signaal (bruikbare informatie)\n",
    "- 10 dB tot 15 dB: Dit wordt beschouwd als \"Matig\" signaalniveau.\n",
    "- 15 dB tot 25 dB: Dit wordt beschouwd als \"Acceptabel\" signaalniveau.\n",
    "- 25 dB tot 40 dB: Dit wordt beschouwd als \"Goed\" signaalniveau.\n",
    "- 41 dB of hoger: Dit wordt beschouwd als \"Uitstekend\" en duidt op een zeer sterke en helder geluid."
   ]
  },
  {
   "cell_type": "code",
   "execution_count": 14,
   "metadata": {},
   "outputs": [],
   "source": [
    "import librosa\n",
    "def calculate_snr(audio_path):\n",
    "    audio_data, sample_rate = librosa.load(audio_path)\n",
    "    signal_rms = np.sqrt(np.mean(audio_data**2))\n",
    "    noise_rms = np.sqrt(np.mean(audio_data[0:sample_rate]**2))  # Bereken het ruisniveau in het eerste seconde van het audio\n",
    "    snr = 20 * np.log10(signal_rms / noise_rms)\n",
    "    return snr"
   ]
  },
  {
   "cell_type": "code",
   "execution_count": 15,
   "metadata": {},
   "outputs": [],
   "source": [
    "def categorize_quality(snr):\n",
    "    if snr < 5:\n",
    "        return 'Ongeschikt'\n",
    "    elif 5 <= snr < 10:\n",
    "        return 'Minimum'\n",
    "    elif 10 <= snr < 15:\n",
    "        return 'Geaccepteerd minimum'\n",
    "    elif 15 <= snr < 25:\n",
    "        return 'Acceptabel'\n",
    "    elif 25 <= snr < 41:\n",
    "        return 'Goed'\n",
    "    else:\n",
    "        return 'Uitstekend'"
   ]
  },
  {
   "cell_type": "code",
   "execution_count": null,
   "metadata": {},
   "outputs": [],
   "source": [
    "\n",
    "for fragment in test_data1['fragment']:\n",
    "    y, sr = librosa.load(\"audio_fragments/\" + fragment, sr=None)\n",
    "    test_data1['SNR'] = test_data1['fragment'].apply(calculate_snr)\n",
    "    "
   ]
  },
  {
   "cell_type": "markdown",
   "metadata": {},
   "source": [
    "## Modeling\n",
    "**Gebruikte Modellen:**\n",
    "- Random Forest (n_estimators=100, max_depth=5)\n",
    "- Support Vector Machine (kernel='rbf', C=1)\n",
    "\n",
    "**Evaluatie:**\n",
    "- Random Forest: Nauwkeurigheid = 82%, F1 = 0.74\n",
    "- SVM: Nauwkeurigheid = 78%, F1 = 0.70"
   ]
  },
  {
   "cell_type": "code",
   "execution_count": null,
   "metadata": {},
   "outputs": [],
   "source": []
  },
  {
   "cell_type": "markdown",
   "metadata": {},
   "source": [
    "## Evaluation\n",
    "**Resultaten:**\n",
    "- Random Forest model presteerde het beste met een nauwkeurigheid van 82% en een F1-score van 0.74.\n",
    "- Het model voldoet niet aan de minimale eisen van 85% nauwkeurigheid."
   ]
  },
  {
   "cell_type": "markdown",
   "metadata": {},
   "source": []
  },
  {
   "cell_type": "markdown",
   "metadata": {},
   "source": [
    "## Deployment\n",
    "**Conclusie:**\n",
    "- Het huidige model voldoet niet aan de eisen. Meer feature engineering is nodig.\n",
    "\n",
    "**Volgende Stappen:**\n",
    "- Meer geavanceerde features toevoegen uit interactiedata.\n",
    "- Hyperparameter tuning uitvoeren."
   ]
  },
  {
   "cell_type": "markdown",
   "metadata": {},
   "source": []
  }
 ],
 "metadata": {
  "kernelspec": {
   "display_name": "base",
   "language": "python",
   "name": "python3"
  },
  "language_info": {
   "codemirror_mode": {
    "name": "ipython",
    "version": 3
   },
   "file_extension": ".py",
   "mimetype": "text/x-python",
   "name": "python",
   "nbconvert_exporter": "python",
   "pygments_lexer": "ipython3",
   "version": "3.12.7"
  }
 },
 "nbformat": 4,
 "nbformat_minor": 2
}
